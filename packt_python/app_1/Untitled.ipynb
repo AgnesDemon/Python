{
 "cells": [
  {
   "cell_type": "code",
   "execution_count": 2,
   "id": "7db15f60-b564-4344-9ee5-048347e94bdb",
   "metadata": {},
   "outputs": [],
   "source": [
    "import pandas\n",
    "import folium\n",
    "import os"
   ]
  },
  {
   "cell_type": "code",
   "execution_count": 3,
   "id": "b9709709",
   "metadata": {},
   "outputs": [
    {
     "data": {
      "text/html": [
       "<div>\n",
       "<style scoped>\n",
       "    .dataframe tbody tr th:only-of-type {\n",
       "        vertical-align: middle;\n",
       "    }\n",
       "\n",
       "    .dataframe tbody tr th {\n",
       "        vertical-align: top;\n",
       "    }\n",
       "\n",
       "    .dataframe thead th {\n",
       "        text-align: right;\n",
       "    }\n",
       "</style>\n",
       "<table border=\"1\" class=\"dataframe\">\n",
       "  <thead>\n",
       "    <tr style=\"text-align: right;\">\n",
       "      <th></th>\n",
       "      <th>NAME</th>\n",
       "      <th>STATE</th>\n",
       "      <th>HEIGHT</th>\n",
       "      <th>LATITUDE</th>\n",
       "      <th>LONGITUDE</th>\n",
       "    </tr>\n",
       "  </thead>\n",
       "  <tbody>\n",
       "    <tr>\n",
       "      <th>0</th>\n",
       "      <td>Mt Saint Augustine</td>\n",
       "      <td>Alaska</td>\n",
       "      <td>1252m</td>\n",
       "      <td>29.90</td>\n",
       "      <td>-81.31</td>\n",
       "    </tr>\n",
       "    <tr>\n",
       "      <th>1</th>\n",
       "      <td>Red Mountain</td>\n",
       "      <td>Arizona</td>\n",
       "      <td>2428m</td>\n",
       "      <td>35.52</td>\n",
       "      <td>-111.87</td>\n",
       "    </tr>\n",
       "    <tr>\n",
       "      <th>2</th>\n",
       "      <td>Lassen Peak</td>\n",
       "      <td>California</td>\n",
       "      <td>3189m</td>\n",
       "      <td>40.50</td>\n",
       "      <td>-121.42</td>\n",
       "    </tr>\n",
       "    <tr>\n",
       "      <th>3</th>\n",
       "      <td>La Garita Caldera</td>\n",
       "      <td>Colorado</td>\n",
       "      <td>4274m</td>\n",
       "      <td>37.75</td>\n",
       "      <td>-106.93</td>\n",
       "    </tr>\n",
       "    <tr>\n",
       "      <th>4</th>\n",
       "      <td>Hualalai</td>\n",
       "      <td>Hawaii</td>\n",
       "      <td>2521m</td>\n",
       "      <td>19.69</td>\n",
       "      <td>-155.87</td>\n",
       "    </tr>\n",
       "  </tbody>\n",
       "</table>\n",
       "</div>"
      ],
      "text/plain": [
       "                 NAME        STATE  HEIGHT  LATITUDE  LONGITUDE\n",
       "0  Mt Saint Augustine       Alaska   1252m     29.90     -81.31\n",
       "1        Red Mountain      Arizona   2428m     35.52    -111.87\n",
       "2         Lassen Peak   California   3189m     40.50    -121.42\n",
       "3   La Garita Caldera     Colorado   4274m     37.75    -106.93\n",
       "4            Hualalai       Hawaii   2521m     19.69    -155.87"
      ]
     },
     "execution_count": 3,
     "metadata": {},
     "output_type": "execute_result"
    }
   ],
   "source": [
    "data = pandas.read_csv(\"volcanoes.csv\")\n",
    "data"
   ]
  },
  {
   "cell_type": "code",
   "execution_count": 4,
   "id": "bb265588",
   "metadata": {},
   "outputs": [
    {
     "data": {
      "text/plain": [
       "0    29.90\n",
       "1    35.52\n",
       "2    40.50\n",
       "3    37.75\n",
       "4    19.69\n",
       "Name: LATITUDE, dtype: float64"
      ]
     },
     "execution_count": 4,
     "metadata": {},
     "output_type": "execute_result"
    }
   ],
   "source": [
    "data[\"LATITUDE\"]"
   ]
  },
  {
   "cell_type": "code",
   "execution_count": null,
   "id": "f5164acf",
   "metadata": {},
   "outputs": [],
   "source": []
  }
 ],
 "metadata": {
  "kernelspec": {
   "display_name": "Python 3 (ipykernel)",
   "language": "python",
   "name": "python3"
  },
  "language_info": {
   "codemirror_mode": {
    "name": "ipython",
    "version": 3
   },
   "file_extension": ".py",
   "mimetype": "text/x-python",
   "name": "python",
   "nbconvert_exporter": "python",
   "pygments_lexer": "ipython3",
   "version": "3.10.7"
  }
 },
 "nbformat": 4,
 "nbformat_minor": 5
}
